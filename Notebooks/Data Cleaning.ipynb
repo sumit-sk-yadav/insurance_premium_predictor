{
 "cells": [
  {
   "cell_type": "code",
   "execution_count": 1,
   "id": "375ec3e4",
   "metadata": {},
   "outputs": [
    {
     "name": "stdout",
     "output_type": "stream",
     "text": [
      "d:\\ML Projects\\Insurance_premium_predictor\n"
     ]
    },
    {
     "data": {
      "text/plain": [
       "'d:\\\\ML Projects\\\\Insurance_premium_predictor'"
      ]
     },
     "execution_count": 1,
     "metadata": {},
     "output_type": "execute_result"
    }
   ],
   "source": [
    "%cd ..\n",
    "%pwd"
   ]
  },
  {
   "cell_type": "code",
   "execution_count": 2,
   "id": "aec6bf5b",
   "metadata": {},
   "outputs": [],
   "source": [
    "import pandas as pd\n",
    "import numpy as np\n",
    "from zipfile import ZipFile"
   ]
  },
  {
   "cell_type": "code",
   "execution_count": 3,
   "id": "5f5ce46f",
   "metadata": {},
   "outputs": [],
   "source": [
    "with ZipFile('Data\\\\IR_raw_data.zip', 'r') as file:\n",
    "    file.extractall('Data\\\\')"
   ]
  },
  {
   "cell_type": "code",
   "execution_count": 4,
   "id": "79d628a5",
   "metadata": {},
   "outputs": [
    {
     "data": {
      "text/plain": [
       "(1200000, 20)"
      ]
     },
     "execution_count": 4,
     "metadata": {},
     "output_type": "execute_result"
    }
   ],
   "source": [
    "data = pd.read_csv('Data\\\\IR_raw_data.csv', index_col='id')\n",
    "data.shape"
   ]
  },
  {
   "cell_type": "markdown",
   "id": "1bd09eb9",
   "metadata": {},
   "source": [
    "- sampling 15k entries randomly or else my device is cooked "
   ]
  },
  {
   "cell_type": "code",
   "execution_count": 5,
   "id": "5e6213e8",
   "metadata": {},
   "outputs": [
    {
     "name": "stdout",
     "output_type": "stream",
     "text": [
      "<class 'pandas.core.frame.DataFrame'>\n",
      "Index: 25000 entries, 549982 to 39887\n",
      "Data columns (total 20 columns):\n",
      " #   Column                Non-Null Count  Dtype  \n",
      "---  ------                --------------  -----  \n",
      " 0   Age                   24622 non-null  float64\n",
      " 1   Gender                25000 non-null  object \n",
      " 2   Annual Income         24015 non-null  float64\n",
      " 3   Marital Status        24595 non-null  object \n",
      " 4   Number of Dependents  22726 non-null  float64\n",
      " 5   Education Level       25000 non-null  object \n",
      " 6   Occupation            17528 non-null  object \n",
      " 7   Health Score          23497 non-null  float64\n",
      " 8   Location              25000 non-null  object \n",
      " 9   Policy Type           25000 non-null  object \n",
      " 10  Previous Claims       17505 non-null  float64\n",
      " 11  Vehicle Age           24999 non-null  float64\n",
      " 12  Credit Score          22108 non-null  float64\n",
      " 13  Insurance Duration    25000 non-null  float64\n",
      " 14  Policy Start Date     25000 non-null  object \n",
      " 15  Customer Feedback     23401 non-null  object \n",
      " 16  Smoking Status        25000 non-null  object \n",
      " 17  Exercise Frequency    25000 non-null  object \n",
      " 18  Property Type         25000 non-null  object \n",
      " 19  Premium Amount        25000 non-null  float64\n",
      "dtypes: float64(9), object(11)\n",
      "memory usage: 4.0+ MB\n"
     ]
    }
   ],
   "source": [
    "data = data.sample(25000, random_state=13)\n",
    "data.info()"
   ]
  },
  {
   "cell_type": "code",
   "execution_count": 6,
   "id": "21b56098",
   "metadata": {},
   "outputs": [
    {
     "data": {
      "text/plain": [
       "Age                      378\n",
       "Gender                     0\n",
       "Annual Income            985\n",
       "Marital Status           405\n",
       "Number of Dependents    2274\n",
       "Education Level            0\n",
       "Occupation              7472\n",
       "Health Score            1503\n",
       "Location                   0\n",
       "Policy Type                0\n",
       "Previous Claims         7495\n",
       "Vehicle Age                1\n",
       "Credit Score            2892\n",
       "Insurance Duration         0\n",
       "Policy Start Date          0\n",
       "Customer Feedback       1599\n",
       "Smoking Status             0\n",
       "Exercise Frequency         0\n",
       "Property Type              0\n",
       "Premium Amount             0\n",
       "dtype: int64"
      ]
     },
     "execution_count": 6,
     "metadata": {},
     "output_type": "execute_result"
    }
   ],
   "source": [
    "data.isnull().sum()"
   ]
  },
  {
   "cell_type": "code",
   "execution_count": 7,
   "id": "c69186e6",
   "metadata": {},
   "outputs": [],
   "source": [
    "from sklearn.impute import SimpleImputer\n",
    "from sklearn.preprocessing import StandardScaler\n",
    "from sklearn.model_selection import train_test_split"
   ]
  },
  {
   "cell_type": "code",
   "execution_count": 8,
   "id": "8ca40b0a",
   "metadata": {},
   "outputs": [],
   "source": [
    "cat_imputer = SimpleImputer(strategy='most_frequent')\n",
    "num_imputer = SimpleImputer(strategy='median')\n",
    "scaler = StandardScaler()"
   ]
  },
  {
   "cell_type": "code",
   "execution_count": 9,
   "id": "075020e2",
   "metadata": {},
   "outputs": [],
   "source": [
    "numerical_cols = data.select_dtypes(exclude='object').drop(['Premium Amount'], axis = 1).columns\n",
    "categorical_cols = data.select_dtypes(include='object').columns"
   ]
  },
  {
   "cell_type": "code",
   "execution_count": 10,
   "id": "c8dd8317",
   "metadata": {},
   "outputs": [
    {
     "name": "stdout",
     "output_type": "stream",
     "text": [
      "Index(['Age', 'Annual Income', 'Number of Dependents', 'Health Score',\n",
      "       'Previous Claims', 'Vehicle Age', 'Credit Score', 'Insurance Duration'],\n",
      "      dtype='object')\n",
      "Index(['Gender', 'Marital Status', 'Education Level', 'Occupation', 'Location',\n",
      "       'Policy Type', 'Policy Start Date', 'Customer Feedback',\n",
      "       'Smoking Status', 'Exercise Frequency', 'Property Type'],\n",
      "      dtype='object')\n"
     ]
    }
   ],
   "source": [
    "print(numerical_cols)\n",
    "print(categorical_cols)"
   ]
  },
  {
   "cell_type": "code",
   "execution_count": 11,
   "id": "92fb7dd4",
   "metadata": {},
   "outputs": [],
   "source": [
    "data[numerical_cols] = num_imputer.fit_transform(data[numerical_cols])\n",
    "data[categorical_cols] = cat_imputer.fit_transform(data[categorical_cols])\n",
    "data[numerical_cols] = scaler.fit_transform(data[numerical_cols])"
   ]
  },
  {
   "cell_type": "code",
   "execution_count": 12,
   "id": "0420d314",
   "metadata": {},
   "outputs": [
    {
     "data": {
      "text/html": [
       "<div>\n",
       "<style scoped>\n",
       "    .dataframe tbody tr th:only-of-type {\n",
       "        vertical-align: middle;\n",
       "    }\n",
       "\n",
       "    .dataframe tbody tr th {\n",
       "        vertical-align: top;\n",
       "    }\n",
       "\n",
       "    .dataframe thead th {\n",
       "        text-align: right;\n",
       "    }\n",
       "</style>\n",
       "<table border=\"1\" class=\"dataframe\">\n",
       "  <thead>\n",
       "    <tr style=\"text-align: right;\">\n",
       "      <th></th>\n",
       "      <th>Age</th>\n",
       "      <th>Gender</th>\n",
       "      <th>Annual Income</th>\n",
       "      <th>Marital Status</th>\n",
       "      <th>Number of Dependents</th>\n",
       "      <th>Education Level</th>\n",
       "      <th>Occupation</th>\n",
       "      <th>Health Score</th>\n",
       "      <th>Location</th>\n",
       "      <th>Policy Type</th>\n",
       "      <th>Previous Claims</th>\n",
       "      <th>Vehicle Age</th>\n",
       "      <th>Credit Score</th>\n",
       "      <th>Insurance Duration</th>\n",
       "      <th>Policy Start Date</th>\n",
       "      <th>Customer Feedback</th>\n",
       "      <th>Smoking Status</th>\n",
       "      <th>Exercise Frequency</th>\n",
       "      <th>Property Type</th>\n",
       "      <th>Premium Amount</th>\n",
       "    </tr>\n",
       "    <tr>\n",
       "      <th>id</th>\n",
       "      <th></th>\n",
       "      <th></th>\n",
       "      <th></th>\n",
       "      <th></th>\n",
       "      <th></th>\n",
       "      <th></th>\n",
       "      <th></th>\n",
       "      <th></th>\n",
       "      <th></th>\n",
       "      <th></th>\n",
       "      <th></th>\n",
       "      <th></th>\n",
       "      <th></th>\n",
       "      <th></th>\n",
       "      <th></th>\n",
       "      <th></th>\n",
       "      <th></th>\n",
       "      <th></th>\n",
       "      <th></th>\n",
       "      <th></th>\n",
       "    </tr>\n",
       "  </thead>\n",
       "  <tbody>\n",
       "    <tr>\n",
       "      <th>549982</th>\n",
       "      <td>0.132251</td>\n",
       "      <td>Male</td>\n",
       "      <td>0.012510</td>\n",
       "      <td>Single</td>\n",
       "      <td>-1.483019</td>\n",
       "      <td>Master's</td>\n",
       "      <td>Unemployed</td>\n",
       "      <td>-0.503644</td>\n",
       "      <td>Urban</td>\n",
       "      <td>Comprehensive</td>\n",
       "      <td>-1.213954</td>\n",
       "      <td>1.106982</td>\n",
       "      <td>0.244894</td>\n",
       "      <td>0.752937</td>\n",
       "      <td>2023-10-06 15:21:39.231531</td>\n",
       "      <td>Average</td>\n",
       "      <td>No</td>\n",
       "      <td>Daily</td>\n",
       "      <td>Condo</td>\n",
       "      <td>29.0</td>\n",
       "    </tr>\n",
       "    <tr>\n",
       "      <th>661271</th>\n",
       "      <td>0.206482</td>\n",
       "      <td>Female</td>\n",
       "      <td>1.537974</td>\n",
       "      <td>Single</td>\n",
       "      <td>-0.003580</td>\n",
       "      <td>Bachelor's</td>\n",
       "      <td>Employed</td>\n",
       "      <td>-1.515212</td>\n",
       "      <td>Rural</td>\n",
       "      <td>Basic</td>\n",
       "      <td>1.203415</td>\n",
       "      <td>-0.962298</td>\n",
       "      <td>-0.975624</td>\n",
       "      <td>0.368432</td>\n",
       "      <td>2021-12-04 15:21:39.091080</td>\n",
       "      <td>Good</td>\n",
       "      <td>Yes</td>\n",
       "      <td>Weekly</td>\n",
       "      <td>House</td>\n",
       "      <td>40.0</td>\n",
       "    </tr>\n",
       "    <tr>\n",
       "      <th>95378</th>\n",
       "      <td>-0.610065</td>\n",
       "      <td>Female</td>\n",
       "      <td>-0.278826</td>\n",
       "      <td>Single</td>\n",
       "      <td>-0.003580</td>\n",
       "      <td>PhD</td>\n",
       "      <td>Employed</td>\n",
       "      <td>0.871427</td>\n",
       "      <td>Urban</td>\n",
       "      <td>Basic</td>\n",
       "      <td>1.203415</td>\n",
       "      <td>0.244782</td>\n",
       "      <td>1.768779</td>\n",
       "      <td>1.521946</td>\n",
       "      <td>2022-06-14 15:21:39.134960</td>\n",
       "      <td>Poor</td>\n",
       "      <td>No</td>\n",
       "      <td>Daily</td>\n",
       "      <td>House</td>\n",
       "      <td>3138.0</td>\n",
       "    </tr>\n",
       "    <tr>\n",
       "      <th>109118</th>\n",
       "      <td>-0.387370</td>\n",
       "      <td>Male</td>\n",
       "      <td>3.408589</td>\n",
       "      <td>Divorced</td>\n",
       "      <td>-1.483019</td>\n",
       "      <td>PhD</td>\n",
       "      <td>Self-Employed</td>\n",
       "      <td>-0.794070</td>\n",
       "      <td>Urban</td>\n",
       "      <td>Comprehensive</td>\n",
       "      <td>-0.005270</td>\n",
       "      <td>-0.272538</td>\n",
       "      <td>-1.067340</td>\n",
       "      <td>0.368432</td>\n",
       "      <td>2024-05-02 15:21:39.237118</td>\n",
       "      <td>Average</td>\n",
       "      <td>No</td>\n",
       "      <td>Monthly</td>\n",
       "      <td>Condo</td>\n",
       "      <td>1513.0</td>\n",
       "    </tr>\n",
       "    <tr>\n",
       "      <th>205036</th>\n",
       "      <td>1.468419</td>\n",
       "      <td>Male</td>\n",
       "      <td>1.217583</td>\n",
       "      <td>Single</td>\n",
       "      <td>-0.743300</td>\n",
       "      <td>Bachelor's</td>\n",
       "      <td>Employed</td>\n",
       "      <td>1.371232</td>\n",
       "      <td>Rural</td>\n",
       "      <td>Basic</td>\n",
       "      <td>-1.213954</td>\n",
       "      <td>-1.479618</td>\n",
       "      <td>0.019133</td>\n",
       "      <td>-1.169586</td>\n",
       "      <td>2020-03-05 15:21:39.146733</td>\n",
       "      <td>Poor</td>\n",
       "      <td>Yes</td>\n",
       "      <td>Monthly</td>\n",
       "      <td>Apartment</td>\n",
       "      <td>264.0</td>\n",
       "    </tr>\n",
       "  </tbody>\n",
       "</table>\n",
       "</div>"
      ],
      "text/plain": [
       "             Age  Gender  Annual Income Marital Status  Number of Dependents  \\\n",
       "id                                                                             \n",
       "549982  0.132251    Male       0.012510         Single             -1.483019   \n",
       "661271  0.206482  Female       1.537974         Single             -0.003580   \n",
       "95378  -0.610065  Female      -0.278826         Single             -0.003580   \n",
       "109118 -0.387370    Male       3.408589       Divorced             -1.483019   \n",
       "205036  1.468419    Male       1.217583         Single             -0.743300   \n",
       "\n",
       "       Education Level     Occupation  Health Score Location    Policy Type  \\\n",
       "id                                                                            \n",
       "549982        Master's     Unemployed     -0.503644    Urban  Comprehensive   \n",
       "661271      Bachelor's       Employed     -1.515212    Rural          Basic   \n",
       "95378              PhD       Employed      0.871427    Urban          Basic   \n",
       "109118             PhD  Self-Employed     -0.794070    Urban  Comprehensive   \n",
       "205036      Bachelor's       Employed      1.371232    Rural          Basic   \n",
       "\n",
       "        Previous Claims  Vehicle Age  Credit Score  Insurance Duration  \\\n",
       "id                                                                       \n",
       "549982        -1.213954     1.106982      0.244894            0.752937   \n",
       "661271         1.203415    -0.962298     -0.975624            0.368432   \n",
       "95378          1.203415     0.244782      1.768779            1.521946   \n",
       "109118        -0.005270    -0.272538     -1.067340            0.368432   \n",
       "205036        -1.213954    -1.479618      0.019133           -1.169586   \n",
       "\n",
       "                 Policy Start Date Customer Feedback Smoking Status  \\\n",
       "id                                                                    \n",
       "549982  2023-10-06 15:21:39.231531           Average             No   \n",
       "661271  2021-12-04 15:21:39.091080              Good            Yes   \n",
       "95378   2022-06-14 15:21:39.134960              Poor             No   \n",
       "109118  2024-05-02 15:21:39.237118           Average             No   \n",
       "205036  2020-03-05 15:21:39.146733              Poor            Yes   \n",
       "\n",
       "       Exercise Frequency Property Type  Premium Amount  \n",
       "id                                                       \n",
       "549982              Daily         Condo            29.0  \n",
       "661271             Weekly         House            40.0  \n",
       "95378               Daily         House          3138.0  \n",
       "109118            Monthly         Condo          1513.0  \n",
       "205036            Monthly     Apartment           264.0  "
      ]
     },
     "execution_count": 12,
     "metadata": {},
     "output_type": "execute_result"
    }
   ],
   "source": [
    "data.head()"
   ]
  },
  {
   "cell_type": "code",
   "execution_count": 13,
   "id": "3e8f88b1",
   "metadata": {},
   "outputs": [],
   "source": [
    "data['Policy Start Date'] = pd.to_datetime(data['Policy Start Date'])\n",
    "data['Policy Age'] = (pd.to_datetime('2025-01-01') - data['Policy Start Date']).dt.days\n",
    "data[\"Year\"] = data[\"Policy Start Date\"].dt.year.astype(\"float64\")\n",
    "data[\"Day\"] = data[\"Policy Start Date\"].dt.day.astype(\"float64\")\n",
    "data[\"Month\"] = data[\"Policy Start Date\"].dt.month.astype(\"float64\")\n",
    "data[\"Day_of_week\"] = data[\"Policy Start Date\"].dt.dayofweek.astype(\"float64\")\n",
    "data = data.drop(columns=['Policy Start Date'])"
   ]
  },
  {
   "cell_type": "code",
   "execution_count": 14,
   "id": "3d5c569f",
   "metadata": {},
   "outputs": [],
   "source": [
    "def cyclical_transform(df, col_name, max_val):\n",
    "        # sin(2π * col / max_val), cos(2π * col / max_val)\n",
    "        df[f\"{col_name}_sin\"] = np.sin(2 * np.pi * df[col_name] / max_val)\n",
    "        df[f\"{col_name}_cos\"] = np.cos(2 * np.pi * df[col_name] / max_val)\n",
    "        \n",
    "cyclical_transform(data, \"Month\", 12)\n",
    "cyclical_transform(data, \"Day_of_week\", 7)\n",
    "\n",
    "data[\"Age\"] = data[\"Age\"] ** 2"
   ]
  },
  {
   "cell_type": "code",
   "execution_count": 15,
   "id": "4bbd6a8b",
   "metadata": {},
   "outputs": [
    {
     "name": "stdout",
     "output_type": "stream",
     "text": [
      "Gender\n",
      "Male      12699\n",
      "Female    12301\n",
      "Name: count, dtype: int64 \n",
      "\n",
      "Marital Status\n",
      "Single      8679\n",
      "Married     8241\n",
      "Divorced    8080\n",
      "Name: count, dtype: int64 \n",
      "\n",
      "Education Level\n",
      "Bachelor's     6328\n",
      "PhD            6285\n",
      "Master's       6261\n",
      "High School    6126\n",
      "Name: count, dtype: int64 \n",
      "\n",
      "Occupation\n",
      "Self-Employed    13545\n",
      "Employed          5786\n",
      "Unemployed        5669\n",
      "Name: count, dtype: int64 \n",
      "\n",
      "Location\n",
      "Suburban    8441\n",
      "Rural       8309\n",
      "Urban       8250\n",
      "Name: count, dtype: int64 \n",
      "\n",
      "Policy Type\n",
      "Premium          8494\n",
      "Comprehensive    8272\n",
      "Basic            8234\n",
      "Name: count, dtype: int64 \n",
      "\n",
      "Customer Feedback\n",
      "Average    9479\n",
      "Poor       7767\n",
      "Good       7754\n",
      "Name: count, dtype: int64 \n",
      "\n",
      "Smoking Status\n",
      "Yes    12568\n",
      "No     12432\n",
      "Name: count, dtype: int64 \n",
      "\n",
      "Exercise Frequency\n",
      "Weekly     6474\n",
      "Rarely     6310\n",
      "Monthly    6134\n",
      "Daily      6082\n",
      "Name: count, dtype: int64 \n",
      "\n",
      "Property Type\n",
      "Condo        8402\n",
      "House        8361\n",
      "Apartment    8237\n",
      "Name: count, dtype: int64 \n",
      "\n"
     ]
    }
   ],
   "source": [
    "for col in categorical_cols.drop('Policy Start Date'):\n",
    "    print(data[col].value_counts(), '\\n')"
   ]
  },
  {
   "cell_type": "code",
   "execution_count": 16,
   "id": "01f89e75",
   "metadata": {},
   "outputs": [],
   "source": [
    "from sklearn.preprocessing import OrdinalEncoder\n",
    "ordinal_encoder = OrdinalEncoder()"
   ]
  },
  {
   "cell_type": "code",
   "execution_count": 17,
   "id": "3acdef90",
   "metadata": {},
   "outputs": [],
   "source": [
    "ord_cols = ['Policy Type','Customer Feedback','Exercise Frequency']\n",
    "lab_cols = ['Gender','Marital Status','Education Level','Occupation','Location','Smoking Status','Property Type']\n",
    "\n",
    "for col in ord_cols:\n",
    "    data[col] = ordinal_encoder.fit_transform(data[col].to_frame())\n"
   ]
  },
  {
   "cell_type": "code",
   "execution_count": 18,
   "id": "7831b999",
   "metadata": {},
   "outputs": [],
   "source": [
    "data['Policy Age'] = scaler.fit_transform(data['Policy Age'].to_frame())"
   ]
  },
  {
   "cell_type": "code",
   "execution_count": 19,
   "id": "b0e57ae9",
   "metadata": {},
   "outputs": [],
   "source": [
    "data = pd.get_dummies(data, columns=lab_cols, drop_first=True, dtype=float)"
   ]
  },
  {
   "cell_type": "code",
   "execution_count": null,
   "id": "2a92e774",
   "metadata": {},
   "outputs": [],
   "source": []
  },
  {
   "cell_type": "code",
   "execution_count": 20,
   "id": "cca8714d",
   "metadata": {},
   "outputs": [
    {
     "name": "stdout",
     "output_type": "stream",
     "text": [
      "<class 'pandas.core.frame.DataFrame'>\n",
      "Index: 25000 entries, 549982 to 39887\n",
      "Data columns (total 34 columns):\n",
      " #   Column                       Non-Null Count  Dtype  \n",
      "---  ------                       --------------  -----  \n",
      " 0   Age                          25000 non-null  float64\n",
      " 1   Annual Income                25000 non-null  float64\n",
      " 2   Number of Dependents         25000 non-null  float64\n",
      " 3   Health Score                 25000 non-null  float64\n",
      " 4   Policy Type                  25000 non-null  float64\n",
      " 5   Previous Claims              25000 non-null  float64\n",
      " 6   Vehicle Age                  25000 non-null  float64\n",
      " 7   Credit Score                 25000 non-null  float64\n",
      " 8   Insurance Duration           25000 non-null  float64\n",
      " 9   Customer Feedback            25000 non-null  float64\n",
      " 10  Exercise Frequency           25000 non-null  float64\n",
      " 11  Premium Amount               25000 non-null  float64\n",
      " 12  Policy Age                   25000 non-null  float64\n",
      " 13  Year                         25000 non-null  float64\n",
      " 14  Day                          25000 non-null  float64\n",
      " 15  Month                        25000 non-null  float64\n",
      " 16  Day_of_week                  25000 non-null  float64\n",
      " 17  Month_sin                    25000 non-null  float64\n",
      " 18  Month_cos                    25000 non-null  float64\n",
      " 19  Day_of_week_sin              25000 non-null  float64\n",
      " 20  Day_of_week_cos              25000 non-null  float64\n",
      " 21  Gender_Male                  25000 non-null  float64\n",
      " 22  Marital Status_Married       25000 non-null  float64\n",
      " 23  Marital Status_Single        25000 non-null  float64\n",
      " 24  Education Level_High School  25000 non-null  float64\n",
      " 25  Education Level_Master's     25000 non-null  float64\n",
      " 26  Education Level_PhD          25000 non-null  float64\n",
      " 27  Occupation_Self-Employed     25000 non-null  float64\n",
      " 28  Occupation_Unemployed        25000 non-null  float64\n",
      " 29  Location_Suburban            25000 non-null  float64\n",
      " 30  Location_Urban               25000 non-null  float64\n",
      " 31  Smoking Status_Yes           25000 non-null  float64\n",
      " 32  Property Type_Condo          25000 non-null  float64\n",
      " 33  Property Type_House          25000 non-null  float64\n",
      "dtypes: float64(34)\n",
      "memory usage: 6.7 MB\n"
     ]
    }
   ],
   "source": [
    "data.info()"
   ]
  },
  {
   "cell_type": "code",
   "execution_count": 21,
   "id": "22332838",
   "metadata": {},
   "outputs": [],
   "source": [
    "data.to_csv('Data\\\\clean_data.csv', index=False)"
   ]
  }
 ],
 "metadata": {
  "kernelspec": {
   "display_name": "insurance",
   "language": "python",
   "name": "python3"
  },
  "language_info": {
   "codemirror_mode": {
    "name": "ipython",
    "version": 3
   },
   "file_extension": ".py",
   "mimetype": "text/x-python",
   "name": "python",
   "nbconvert_exporter": "python",
   "pygments_lexer": "ipython3",
   "version": "3.12.9"
  }
 },
 "nbformat": 4,
 "nbformat_minor": 5
}
