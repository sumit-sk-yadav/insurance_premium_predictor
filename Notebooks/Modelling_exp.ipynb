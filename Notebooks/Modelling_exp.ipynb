{
 "cells": [
  {
   "cell_type": "code",
   "execution_count": 1,
   "id": "0e4cc801",
   "metadata": {},
   "outputs": [
    {
     "name": "stdout",
     "output_type": "stream",
     "text": [
      "d:\\ML Projects\\Insurance_premium_predictor\n"
     ]
    }
   ],
   "source": [
    "%cd .."
   ]
  },
  {
   "cell_type": "code",
   "execution_count": 2,
   "id": "edffc45d",
   "metadata": {},
   "outputs": [],
   "source": [
    "import pandas as pd\n",
    "data = pd.read_csv('Data\\\\clean_data.csv')"
   ]
  },
  {
   "cell_type": "code",
   "execution_count": 3,
   "id": "5b8cf9f3",
   "metadata": {},
   "outputs": [],
   "source": [
    "X = data.drop(columns=['Premium Amount'])\n",
    "y = data['Premium Amount']"
   ]
  },
  {
   "cell_type": "code",
   "execution_count": 4,
   "id": "33034caf",
   "metadata": {},
   "outputs": [],
   "source": [
    "from sklearn.model_selection import train_test_split\n",
    "X_train, X_test, y_train, y_test = train_test_split(X,y, test_size = 0.3, random_state = 13)"
   ]
  },
  {
   "cell_type": "code",
   "execution_count": 5,
   "id": "10e07743",
   "metadata": {},
   "outputs": [],
   "source": [
    "from sklearn.preprocessing import StandardScaler\n",
    "scaler = StandardScaler()"
   ]
  },
  {
   "cell_type": "code",
   "execution_count": 6,
   "id": "be9ec804",
   "metadata": {},
   "outputs": [],
   "source": [
    "y_train = scaler.fit_transform(y_train.to_frame())\n",
    "y_test = scaler.transform(y_test.to_frame())"
   ]
  },
  {
   "cell_type": "code",
   "execution_count": 7,
   "id": "456c1f9b",
   "metadata": {},
   "outputs": [],
   "source": [
    "import numpy as np"
   ]
  },
  {
   "cell_type": "code",
   "execution_count": 8,
   "id": "bcbf5b3f",
   "metadata": {},
   "outputs": [],
   "source": [
    "y_train = y_train.ravel()\n",
    "y_test = y_test.ravel()"
   ]
  },
  {
   "cell_type": "code",
   "execution_count": 9,
   "id": "85d39ee7",
   "metadata": {},
   "outputs": [
    {
     "data": {
      "text/plain": [
       "((17500,), (7500,))"
      ]
     },
     "execution_count": 9,
     "metadata": {},
     "output_type": "execute_result"
    }
   ],
   "source": [
    "y_train.shape, y_test.shape"
   ]
  },
  {
   "cell_type": "code",
   "execution_count": 10,
   "id": "20901cd0",
   "metadata": {},
   "outputs": [],
   "source": [
    "from sklearn.linear_model import LinearRegression, RidgeCV, LassoCV, ElasticNetCV, SGDRegressor\n",
    "from sklearn.ensemble import RandomForestRegressor, GradientBoostingRegressor, AdaBoostRegressor\n",
    "from sklearn.metrics import mean_absolute_error, mean_squared_error, r2_score"
   ]
  },
  {
   "cell_type": "code",
   "execution_count": 11,
   "id": "e3304d5c",
   "metadata": {},
   "outputs": [],
   "source": [
    "models = {\n",
    "    \"basic Linear regression\" : LinearRegression(),\n",
    "    \"Ridge\" : RidgeCV(),\n",
    "    \"Lasso\" : LassoCV(),\n",
    "    \"ElasticNet\" : ElasticNetCV(),\n",
    "    \"SGD Regressor\" : SGDRegressor(),\n",
    "    \"Random Forest\" : RandomForestRegressor(),\n",
    "    \"Gradient Boosting Regressor\" : GradientBoostingRegressor(),\n",
    "    \"Adaboost\" : AdaBoostRegressor()     \n",
    "}"
   ]
  },
  {
   "cell_type": "code",
   "execution_count": 12,
   "id": "a88588d3",
   "metadata": {},
   "outputs": [
    {
     "name": "stdout",
     "output_type": "stream",
     "text": [
      "basic Linear regression model completed\n",
      "Ridge model completed\n",
      "Lasso model completed\n",
      "ElasticNet model completed\n",
      "SGD Regressor model completed\n",
      "Random Forest model completed\n",
      "Gradient Boosting Regressor model completed\n",
      "Adaboost model completed\n"
     ]
    }
   ],
   "source": [
    "results = {}\n",
    "\n",
    "for name, model in models.items():\n",
    "    model.fit(X_train, y_train)\n",
    "    y_pred = model.predict(X_test)\n",
    "    MAE = mean_absolute_error(y_test, y_pred)\n",
    "    MSE = mean_squared_error(y_test, y_pred)\n",
    "    R2 = r2_score(y_test, y_pred)\n",
    "    results[name] = { \"MAE\" : MAE, \"MSE\" : MSE, \"R2\" : R2}\n",
    "    print(f'{name} model completed')"
   ]
  },
  {
   "cell_type": "code",
   "execution_count": 13,
   "id": "1d41efb9",
   "metadata": {},
   "outputs": [
    {
     "data": {
      "text/html": [
       "<div>\n",
       "<style scoped>\n",
       "    .dataframe tbody tr th:only-of-type {\n",
       "        vertical-align: middle;\n",
       "    }\n",
       "\n",
       "    .dataframe tbody tr th {\n",
       "        vertical-align: top;\n",
       "    }\n",
       "\n",
       "    .dataframe thead th {\n",
       "        text-align: right;\n",
       "    }\n",
       "</style>\n",
       "<table border=\"1\" class=\"dataframe\">\n",
       "  <thead>\n",
       "    <tr style=\"text-align: right;\">\n",
       "      <th></th>\n",
       "      <th>MAE</th>\n",
       "      <th>MSE</th>\n",
       "      <th>R2</th>\n",
       "    </tr>\n",
       "  </thead>\n",
       "  <tbody>\n",
       "    <tr>\n",
       "      <th>basic Linear regression</th>\n",
       "      <td>7.704033e-01</td>\n",
       "      <td>9.948264e-01</td>\n",
       "      <td>1.155515e-03</td>\n",
       "    </tr>\n",
       "    <tr>\n",
       "      <th>Ridge</th>\n",
       "      <td>7.703927e-01</td>\n",
       "      <td>9.946733e-01</td>\n",
       "      <td>1.309205e-03</td>\n",
       "    </tr>\n",
       "    <tr>\n",
       "      <th>Lasso</th>\n",
       "      <td>7.703549e-01</td>\n",
       "      <td>9.945232e-01</td>\n",
       "      <td>1.459931e-03</td>\n",
       "    </tr>\n",
       "    <tr>\n",
       "      <th>ElasticNet</th>\n",
       "      <td>7.703547e-01</td>\n",
       "      <td>9.945277e-01</td>\n",
       "      <td>1.455386e-03</td>\n",
       "    </tr>\n",
       "    <tr>\n",
       "      <th>SGD Regressor</th>\n",
       "      <td>1.406508e+15</td>\n",
       "      <td>1.978287e+30</td>\n",
       "      <td>-1.986277e+30</td>\n",
       "    </tr>\n",
       "    <tr>\n",
       "      <th>Random Forest</th>\n",
       "      <td>7.653865e-01</td>\n",
       "      <td>9.836797e-01</td>\n",
       "      <td>1.234725e-02</td>\n",
       "    </tr>\n",
       "    <tr>\n",
       "      <th>Gradient Boosting Regressor</th>\n",
       "      <td>7.644163e-01</td>\n",
       "      <td>9.841225e-01</td>\n",
       "      <td>1.190267e-02</td>\n",
       "    </tr>\n",
       "    <tr>\n",
       "      <th>Adaboost</th>\n",
       "      <td>8.828412e-01</td>\n",
       "      <td>1.108622e+00</td>\n",
       "      <td>-1.130997e-01</td>\n",
       "    </tr>\n",
       "  </tbody>\n",
       "</table>\n",
       "</div>"
      ],
      "text/plain": [
       "                                      MAE           MSE            R2\n",
       "basic Linear regression      7.704033e-01  9.948264e-01  1.155515e-03\n",
       "Ridge                        7.703927e-01  9.946733e-01  1.309205e-03\n",
       "Lasso                        7.703549e-01  9.945232e-01  1.459931e-03\n",
       "ElasticNet                   7.703547e-01  9.945277e-01  1.455386e-03\n",
       "SGD Regressor                1.406508e+15  1.978287e+30 -1.986277e+30\n",
       "Random Forest                7.653865e-01  9.836797e-01  1.234725e-02\n",
       "Gradient Boosting Regressor  7.644163e-01  9.841225e-01  1.190267e-02\n",
       "Adaboost                     8.828412e-01  1.108622e+00 -1.130997e-01"
      ]
     },
     "execution_count": 13,
     "metadata": {},
     "output_type": "execute_result"
    }
   ],
   "source": [
    "metrics = pd.DataFrame(results).T # transpose the data \n",
    "metrics"
   ]
  },
  {
   "cell_type": "code",
   "execution_count": 14,
   "id": "5f5f16a7",
   "metadata": {},
   "outputs": [
    {
     "data": {
      "text/plain": [
       "(25000, 33)"
      ]
     },
     "execution_count": 14,
     "metadata": {},
     "output_type": "execute_result"
    }
   ],
   "source": [
    "X.shape"
   ]
  },
  {
   "cell_type": "markdown",
   "id": "6b1610b1",
   "metadata": {},
   "source": [
    "# testing with a ANN "
   ]
  },
  {
   "cell_type": "code",
   "execution_count": 15,
   "id": "04acca96",
   "metadata": {},
   "outputs": [],
   "source": [
    "import tensorflow as tf\n",
    "from tensorflow.keras.models import Sequential\n",
    "from tensorflow.keras.layers import Dense, ReLU, Dropout\n",
    "from tensorflow.keras.optimizers import Adam\n",
    "from tensorflow.keras.callbacks import EarlyStopping, ReduceLROnPlateau\n",
    "from tensorflow.keras import metrics"
   ]
  },
  {
   "cell_type": "code",
   "execution_count": 16,
   "id": "baf023c8",
   "metadata": {},
   "outputs": [],
   "source": [
    "regressor = Sequential()\n",
    "regressor.add(Dense(units = X.shape[1], activation = 'relu'))\n",
    "regressor.add(Dropout(0.5))\n",
    "regressor.add(Dense(units = 25, activation = 'relu'))\n",
    "regressor.add(Dropout(0.3))\n",
    "regressor.add(Dense(units = 25, activation = 'relu'))\n",
    "regressor.add(Dropout(0.3))\n",
    "regressor.add(Dense(units = 25, activation = 'relu'))\n",
    "regressor.add(Dropout(0.3))\n",
    "regressor.add(Dense(units = 15, activation = 'relu'))\n",
    "regressor.add(Dropout(0.2))\n",
    "regressor.add(Dense(units = 10, activation = 'relu'))\n",
    "regressor.add(Dropout(0.1))\n",
    "regressor.add(Dense(units = 5, activation = 'relu'))\n",
    "regressor.add(Dropout(0.1))\n",
    "regressor.add(Dense(units = 1, activation = 'linear'))"
   ]
  },
  {
   "cell_type": "code",
   "execution_count": 17,
   "id": "c3ece898",
   "metadata": {},
   "outputs": [],
   "source": [
    "optimizer = Adam(learning_rate = 0.01)\n",
    "early_stopping = EarlyStopping(\n",
    "    monitor=\"val_loss\",\n",
    "    min_delta=0.001,\n",
    "    patience=20,\n",
    "    verbose=1,\n",
    "    mode=\"auto\",\n",
    "    baseline=None,\n",
    "    restore_best_weights=False,\n",
    "    start_from_epoch=0,\n",
    ")\n",
    "reduce_lr = ReduceLROnPlateau(\n",
    "    monitor=\"val_loss\",\n",
    "    factor=0.01,\n",
    "    patience=20,\n",
    "    verbose=0,\n",
    "    mode=\"auto\",\n",
    "    min_delta=0.001,\n",
    "    cooldown=0,\n",
    "    min_lr=0.00000001,\n",
    ")"
   ]
  },
  {
   "cell_type": "code",
   "execution_count": 18,
   "id": "9e42e394",
   "metadata": {},
   "outputs": [],
   "source": [
    "regressor.compile(optimizer = optimizer, loss = 'mean_squared_error', metrics=[\n",
    "        metrics.MeanAbsoluteError(),\n",
    "        metrics.RootMeanSquaredError(),\n",
    "        metrics.R2Score()\n",
    "    ])"
   ]
  },
  {
   "cell_type": "code",
   "execution_count": 19,
   "id": "a7389f8d",
   "metadata": {},
   "outputs": [
    {
     "name": "stdout",
     "output_type": "stream",
     "text": [
      "Epoch 1/1000\n",
      "\u001b[1m1225/1225\u001b[0m \u001b[32m━━━━━━━━━━━━━━━━━━━━\u001b[0m\u001b[37m\u001b[0m \u001b[1m4s\u001b[0m 2ms/step - loss: 119.7611 - mean_absolute_error: 2.2964 - r2_score: -149.6378 - root_mean_squared_error: 8.1483 - val_loss: 1.0263 - val_mean_absolute_error: 0.7714 - val_r2_score: -0.0057 - val_root_mean_squared_error: 1.0131 - learning_rate: 0.0100\n",
      "Epoch 2/1000\n",
      "\u001b[1m1225/1225\u001b[0m \u001b[32m━━━━━━━━━━━━━━━━━━━━\u001b[0m\u001b[37m\u001b[0m \u001b[1m2s\u001b[0m 2ms/step - loss: 1.0913 - mean_absolute_error: 0.7881 - r2_score: -0.0780 - root_mean_squared_error: 1.0443 - val_loss: 1.0243 - val_mean_absolute_error: 0.7739 - val_r2_score: -0.0038 - val_root_mean_squared_error: 1.0121 - learning_rate: 0.0100\n",
      "Epoch 3/1000\n",
      "\u001b[1m1225/1225\u001b[0m \u001b[32m━━━━━━━━━━━━━━━━━━━━\u001b[0m\u001b[37m\u001b[0m \u001b[1m2s\u001b[0m 2ms/step - loss: 1.0423 - mean_absolute_error: 0.7789 - r2_score: -0.0418 - root_mean_squared_error: 1.0206 - val_loss: 1.0213 - val_mean_absolute_error: 0.7802 - val_r2_score: -8.4937e-04 - val_root_mean_squared_error: 1.0106 - learning_rate: 0.0100\n",
      "Epoch 4/1000\n",
      "\u001b[1m1225/1225\u001b[0m \u001b[32m━━━━━━━━━━━━━━━━━━━━\u001b[0m\u001b[37m\u001b[0m \u001b[1m2s\u001b[0m 2ms/step - loss: 0.9841 - mean_absolute_error: 0.7625 - r2_score: -0.0172 - root_mean_squared_error: 0.9917 - val_loss: 1.0205 - val_mean_absolute_error: 0.7866 - val_r2_score: 1.7881e-07 - val_root_mean_squared_error: 1.0102 - learning_rate: 0.0100\n",
      "Epoch 5/1000\n",
      "\u001b[1m1225/1225\u001b[0m \u001b[32m━━━━━━━━━━━━━━━━━━━━\u001b[0m\u001b[37m\u001b[0m \u001b[1m2s\u001b[0m 2ms/step - loss: 0.9869 - mean_absolute_error: 0.7686 - r2_score: -0.0062 - root_mean_squared_error: 0.9933 - val_loss: 1.0223 - val_mean_absolute_error: 0.7776 - val_r2_score: -0.0018 - val_root_mean_squared_error: 1.0111 - learning_rate: 0.0100\n",
      "Epoch 6/1000\n",
      "\u001b[1m1225/1225\u001b[0m \u001b[32m━━━━━━━━━━━━━━━━━━━━\u001b[0m\u001b[37m\u001b[0m \u001b[1m2s\u001b[0m 2ms/step - loss: 1.0001 - mean_absolute_error: 0.7763 - r2_score: -0.0045 - root_mean_squared_error: 1.0000 - val_loss: 1.0205 - val_mean_absolute_error: 0.7859 - val_r2_score: -8.4639e-06 - val_root_mean_squared_error: 1.0102 - learning_rate: 0.0100\n",
      "Epoch 7/1000\n",
      "\u001b[1m1225/1225\u001b[0m \u001b[32m━━━━━━━━━━━━━━━━━━━━\u001b[0m\u001b[37m\u001b[0m \u001b[1m2s\u001b[0m 2ms/step - loss: 1.0048 - mean_absolute_error: 0.7751 - r2_score: -0.0025 - root_mean_squared_error: 1.0023 - val_loss: 1.0207 - val_mean_absolute_error: 0.7902 - val_r2_score: -2.6572e-04 - val_root_mean_squared_error: 1.0103 - learning_rate: 0.0100\n",
      "Epoch 8/1000\n",
      "\u001b[1m1225/1225\u001b[0m \u001b[32m━━━━━━━━━━━━━━━━━━━━\u001b[0m\u001b[37m\u001b[0m \u001b[1m2s\u001b[0m 2ms/step - loss: 1.0075 - mean_absolute_error: 0.7765 - r2_score: -0.0035 - root_mean_squared_error: 1.0036 - val_loss: 1.0255 - val_mean_absolute_error: 0.7723 - val_r2_score: -0.0049 - val_root_mean_squared_error: 1.0127 - learning_rate: 0.0100\n",
      "Epoch 9/1000\n",
      "\u001b[1m1225/1225\u001b[0m \u001b[32m━━━━━━━━━━━━━━━━━━━━\u001b[0m\u001b[37m\u001b[0m \u001b[1m2s\u001b[0m 2ms/step - loss: 0.9661 - mean_absolute_error: 0.7600 - r2_score: -0.0025 - root_mean_squared_error: 0.9828 - val_loss: 1.0205 - val_mean_absolute_error: 0.7856 - val_r2_score: -1.8120e-05 - val_root_mean_squared_error: 1.0102 - learning_rate: 0.0100\n",
      "Epoch 10/1000\n",
      "\u001b[1m1225/1225\u001b[0m \u001b[32m━━━━━━━━━━━━━━━━━━━━\u001b[0m\u001b[37m\u001b[0m \u001b[1m2s\u001b[0m 2ms/step - loss: 1.0042 - mean_absolute_error: 0.7679 - r2_score: -0.0046 - root_mean_squared_error: 1.0018 - val_loss: 1.0205 - val_mean_absolute_error: 0.7860 - val_r2_score: -6.5565e-06 - val_root_mean_squared_error: 1.0102 - learning_rate: 0.0100\n",
      "Epoch 11/1000\n",
      "\u001b[1m1225/1225\u001b[0m \u001b[32m━━━━━━━━━━━━━━━━━━━━\u001b[0m\u001b[37m\u001b[0m \u001b[1m2s\u001b[0m 1ms/step - loss: 0.9924 - mean_absolute_error: 0.7705 - r2_score: -0.0031 - root_mean_squared_error: 0.9959 - val_loss: 1.0212 - val_mean_absolute_error: 0.7806 - val_r2_score: -7.4124e-04 - val_root_mean_squared_error: 1.0106 - learning_rate: 0.0100\n",
      "Epoch 12/1000\n",
      "\u001b[1m1225/1225\u001b[0m \u001b[32m━━━━━━━━━━━━━━━━━━━━\u001b[0m\u001b[37m\u001b[0m \u001b[1m2s\u001b[0m 1ms/step - loss: 0.9914 - mean_absolute_error: 0.7698 - r2_score: -0.0036 - root_mean_squared_error: 0.9954 - val_loss: 1.0214 - val_mean_absolute_error: 0.7801 - val_r2_score: -8.8084e-04 - val_root_mean_squared_error: 1.0106 - learning_rate: 0.0100\n",
      "Epoch 13/1000\n",
      "\u001b[1m1225/1225\u001b[0m \u001b[32m━━━━━━━━━━━━━━━━━━━━\u001b[0m\u001b[37m\u001b[0m \u001b[1m2s\u001b[0m 2ms/step - loss: 1.0965 - mean_absolute_error: 0.7779 - r2_score: -0.0934 - root_mean_squared_error: 1.0467 - val_loss: 1.0208 - val_mean_absolute_error: 0.7907 - val_r2_score: -3.2938e-04 - val_root_mean_squared_error: 1.0103 - learning_rate: 0.0100\n",
      "Epoch 14/1000\n",
      "\u001b[1m1225/1225\u001b[0m \u001b[32m━━━━━━━━━━━━━━━━━━━━\u001b[0m\u001b[37m\u001b[0m \u001b[1m2s\u001b[0m 2ms/step - loss: 1.0093 - mean_absolute_error: 0.7779 - r2_score: -0.0014 - root_mean_squared_error: 1.0044 - val_loss: 1.0228 - val_mean_absolute_error: 0.7980 - val_r2_score: -0.0023 - val_root_mean_squared_error: 1.0113 - learning_rate: 0.0100\n",
      "Epoch 15/1000\n",
      "\u001b[1m1225/1225\u001b[0m \u001b[32m━━━━━━━━━━━━━━━━━━━━\u001b[0m\u001b[37m\u001b[0m \u001b[1m2s\u001b[0m 2ms/step - loss: 1.0615 - mean_absolute_error: 0.7979 - r2_score: -0.0013 - root_mean_squared_error: 1.0299 - val_loss: 1.0325 - val_mean_absolute_error: 0.7664 - val_r2_score: -0.0118 - val_root_mean_squared_error: 1.0161 - learning_rate: 0.0100\n",
      "Epoch 16/1000\n",
      "\u001b[1m1225/1225\u001b[0m \u001b[32m━━━━━━━━━━━━━━━━━━━━\u001b[0m\u001b[37m\u001b[0m \u001b[1m2s\u001b[0m 2ms/step - loss: 1.0107 - mean_absolute_error: 0.7667 - r2_score: -0.0061 - root_mean_squared_error: 1.0051 - val_loss: 1.0206 - val_mean_absolute_error: 0.7893 - val_r2_score: -1.4699e-04 - val_root_mean_squared_error: 1.0103 - learning_rate: 0.0100\n",
      "Epoch 17/1000\n",
      "\u001b[1m1225/1225\u001b[0m \u001b[32m━━━━━━━━━━━━━━━━━━━━\u001b[0m\u001b[37m\u001b[0m \u001b[1m2s\u001b[0m 1ms/step - loss: 0.9934 - mean_absolute_error: 0.7734 - r2_score: -0.0029 - root_mean_squared_error: 0.9965 - val_loss: 1.0205 - val_mean_absolute_error: 0.7852 - val_r2_score: -3.5524e-05 - val_root_mean_squared_error: 1.0102 - learning_rate: 0.0100\n",
      "Epoch 18/1000\n",
      "\u001b[1m1225/1225\u001b[0m \u001b[32m━━━━━━━━━━━━━━━━━━━━\u001b[0m\u001b[37m\u001b[0m \u001b[1m2s\u001b[0m 2ms/step - loss: 1.0002 - mean_absolute_error: 0.7710 - r2_score: -0.0028 - root_mean_squared_error: 1.0000 - val_loss: 1.0205 - val_mean_absolute_error: 0.7853 - val_r2_score: -2.9922e-05 - val_root_mean_squared_error: 1.0102 - learning_rate: 0.0100\n",
      "Epoch 19/1000\n",
      "\u001b[1m1225/1225\u001b[0m \u001b[32m━━━━━━━━━━━━━━━━━━━━\u001b[0m\u001b[37m\u001b[0m \u001b[1m2s\u001b[0m 1ms/step - loss: 1.0129 - mean_absolute_error: 0.7828 - r2_score: -0.0027 - root_mean_squared_error: 1.0063 - val_loss: 1.0230 - val_mean_absolute_error: 0.7761 - val_r2_score: -0.0024 - val_root_mean_squared_error: 1.0114 - learning_rate: 0.0100\n",
      "Epoch 20/1000\n",
      "\u001b[1m1225/1225\u001b[0m \u001b[32m━━━━━━━━━━━━━━━━━━━━\u001b[0m\u001b[37m\u001b[0m \u001b[1m2s\u001b[0m 2ms/step - loss: 1.0066 - mean_absolute_error: 0.7709 - r2_score: -0.0025 - root_mean_squared_error: 1.0031 - val_loss: 1.0205 - val_mean_absolute_error: 0.7882 - val_r2_score: -5.5075e-05 - val_root_mean_squared_error: 1.0102 - learning_rate: 0.0100\n",
      "Epoch 21/1000\n",
      "\u001b[1m1225/1225\u001b[0m \u001b[32m━━━━━━━━━━━━━━━━━━━━\u001b[0m\u001b[37m\u001b[0m \u001b[1m2s\u001b[0m 2ms/step - loss: 1.0019 - mean_absolute_error: 0.7737 - r2_score: -0.0019 - root_mean_squared_error: 1.0008 - val_loss: 1.0223 - val_mean_absolute_error: 0.7774 - val_r2_score: -0.0018 - val_root_mean_squared_error: 1.0111 - learning_rate: 0.0100\n",
      "Epoch 22/1000\n",
      "\u001b[1m1225/1225\u001b[0m \u001b[32m━━━━━━━━━━━━━━━━━━━━\u001b[0m\u001b[37m\u001b[0m \u001b[1m2s\u001b[0m 2ms/step - loss: 0.9914 - mean_absolute_error: 0.7650 - r2_score: -0.0149 - root_mean_squared_error: 0.9954 - val_loss: 1.0207 - val_mean_absolute_error: 0.7831 - val_r2_score: -2.3520e-04 - val_root_mean_squared_error: 1.0103 - learning_rate: 0.0100\n",
      "Epoch 23/1000\n",
      "\u001b[1m1225/1225\u001b[0m \u001b[32m━━━━━━━━━━━━━━━━━━━━\u001b[0m\u001b[37m\u001b[0m \u001b[1m2s\u001b[0m 2ms/step - loss: 1.0251 - mean_absolute_error: 0.7817 - r2_score: -0.0018 - root_mean_squared_error: 1.0122 - val_loss: 1.0215 - val_mean_absolute_error: 0.7796 - val_r2_score: -0.0010 - val_root_mean_squared_error: 1.0107 - learning_rate: 0.0100\n",
      "Epoch 23: early stopping\n"
     ]
    }
   ],
   "source": [
    "model_history = regressor.fit(X_train,y_train, validation_split = 0.3, batch_size = 10, epochs = 1000, callbacks = [early_stopping, reduce_lr])"
   ]
  }
 ],
 "metadata": {
  "kernelspec": {
   "display_name": "insurance",
   "language": "python",
   "name": "python3"
  },
  "language_info": {
   "codemirror_mode": {
    "name": "ipython",
    "version": 3
   },
   "file_extension": ".py",
   "mimetype": "text/x-python",
   "name": "python",
   "nbconvert_exporter": "python",
   "pygments_lexer": "ipython3",
   "version": "3.12.9"
  }
 },
 "nbformat": 4,
 "nbformat_minor": 5
}
